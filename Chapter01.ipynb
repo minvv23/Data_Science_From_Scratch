{
 "cells": [
  {
   "cell_type": "markdown",
   "metadata": {},
   "source": [
    "## 1장 : 들어가기"
   ]
  },
  {
   "cell_type": "code",
   "execution_count": 2,
   "metadata": {},
   "outputs": [],
   "source": [
    "users = [\n",
    "{ \"id\": 0, \"name\": \"Hero\" },\n",
    "{ \"id\": 1, \"name\": \"Dunn\" },\n",
    "{ \"id\": 2, \"name\": \"Sue\" },\n",
    "{ \"id\": 3, \"name\": \"Chi\" },\n",
    "{ \"id\": 4, \"name\": \"Thor\" },\n",
    "{ \"id\": 5, \"name\": \"Clive\" },\n",
    "{ \"id\": 6, \"name\": \"Hicks\" },\n",
    "{ \"id\": 7, \"name\": \"Devin\" },\n",
    "{ \"id\": 8, \"name\": \"Kate\" },\n",
    "{ \"id\": 9, \"name\": \"Klein\" }\n",
    "]\n",
    "\n",
    "friendships = [(0, 1), (0, 2), (1, 2), (1, 3), (2, 3), (3, 4), \n",
    "               (4, 5), (5, 6), (5, 7), (6, 8), (7, 8), (8, 9)]"
   ]
  },
  {
   "cell_type": "code",
   "execution_count": 9,
   "metadata": {},
   "outputs": [
    {
     "data": {
      "text/plain": [
       "[{'id': 0, 'name': 'Hero', 'friends': []},\n",
       " {'id': 1, 'name': 'Dunn', 'friends': []},\n",
       " {'id': 2, 'name': 'Sue', 'friends': []},\n",
       " {'id': 3, 'name': 'Chi', 'friends': []},\n",
       " {'id': 4, 'name': 'Thor', 'friends': []},\n",
       " {'id': 5, 'name': 'Clive', 'friends': []},\n",
       " {'id': 6, 'name': 'Hicks', 'friends': []},\n",
       " {'id': 7, 'name': 'Devin', 'friends': []},\n",
       " {'id': 8, 'name': 'Kate', 'friends': []},\n",
       " {'id': 9, 'name': 'Klein', 'friends': []}]"
      ]
     },
     "execution_count": 9,
     "metadata": {},
     "output_type": "execute_result"
    }
   ],
   "source": [
    "for user in users :\n",
    "    user['friends'] = []\n",
    "users"
   ]
  },
  {
   "cell_type": "code",
   "execution_count": 10,
   "metadata": {},
   "outputs": [],
   "source": [
    "for i, j in friendships :\n",
    "    users[i]['friends'].append(users[j])\n",
    "    users[j]['friends'].append(users[i])"
   ]
  },
  {
   "cell_type": "code",
   "execution_count": 17,
   "metadata": {},
   "outputs": [
    {
     "name": "stdout",
     "output_type": "stream",
     "text": [
      "24\n",
      "2.4\n"
     ]
    }
   ],
   "source": [
    "def number_of_friends(user) :\n",
    "    return len(user['friends'])\n",
    "\n",
    "total_connections = sum(number_of_friends(user) for user in users)\n",
    "print(total_connections)\n",
    "\n",
    "num_users = len(users)\n",
    "avg_connections = total_connections/num_users\n",
    "print(avg_connections)"
   ]
  },
  {
   "cell_type": "code",
   "execution_count": 19,
   "metadata": {},
   "outputs": [
    {
     "data": {
      "text/plain": [
       "[(0, 2),\n",
       " (1, 3),\n",
       " (2, 3),\n",
       " (3, 3),\n",
       " (4, 2),\n",
       " (5, 3),\n",
       " (6, 2),\n",
       " (7, 2),\n",
       " (8, 3),\n",
       " (9, 1)]"
      ]
     },
     "execution_count": 19,
     "metadata": {},
     "output_type": "execute_result"
    }
   ],
   "source": [
    "num_friends_by_id = [(user['id'], number_of_friends(user)) for user in users]\n",
    "num_friends_by_id"
   ]
  },
  {
   "cell_type": "code",
   "execution_count": 29,
   "metadata": {},
   "outputs": [
    {
     "data": {
      "text/plain": [
       "[(1, 3),\n",
       " (2, 3),\n",
       " (3, 3),\n",
       " (5, 3),\n",
       " (8, 3),\n",
       " (0, 2),\n",
       " (4, 2),\n",
       " (6, 2),\n",
       " (7, 2),\n",
       " (9, 1)]"
      ]
     },
     "execution_count": 29,
     "metadata": {},
     "output_type": "execute_result"
    }
   ],
   "source": [
    "#degree centrality calculator\n",
    "import operator\n",
    "sorted(num_friends_by_id,\n",
    "       key = operator.itemgetter(1),\n",
    "       reverse = True)"
   ]
  },
  {
   "cell_type": "code",
   "execution_count": 34,
   "metadata": {},
   "outputs": [
    {
     "data": {
      "text/plain": [
       "[0, 2, 3, 0, 1, 3]"
      ]
     },
     "execution_count": 34,
     "metadata": {},
     "output_type": "execute_result"
    }
   ],
   "source": [
    "def friends_of_friend_ids_bad(user) :\n",
    "    return [foaf['id'] for friend in user['friends'] for foaf in friend['friends']]\n",
    "\n",
    "friends_of_friend_ids_bad(users[0])"
   ]
  },
  {
   "cell_type": "code",
   "execution_count": 38,
   "metadata": {},
   "outputs": [
    {
     "name": "stdout",
     "output_type": "stream",
     "text": [
      "[1, 2]\n",
      "[0, 2, 3]\n",
      "[0, 1, 3]\n"
     ]
    }
   ],
   "source": [
    "print([friend[\"id\"] for friend in users[0][\"friends\"]])\n",
    "print([friend[\"id\"] for friend in users[1][\"friends\"]])\n",
    "print([friend[\"id\"] for friend in users[2][\"friends\"]])"
   ]
  },
  {
   "cell_type": "code",
   "execution_count": 40,
   "metadata": {},
   "outputs": [
    {
     "data": {
      "text/plain": [
       "Counter({0: 2, 5: 1})"
      ]
     },
     "execution_count": 40,
     "metadata": {},
     "output_type": "execute_result"
    }
   ],
   "source": [
    "from collections import Counter \n",
    "\n",
    "def not_the_same(user, other_user) :\n",
    "    return user['id']!= other_user['id']\n",
    "\n",
    "def not_friends(user, other_user) :\n",
    "    return all(not_the_same(friend, other_user) for friend in user['friends'])\n",
    "\n",
    "def friends_of_friend_ids(user) :\n",
    "    return Counter(foaf['id']\n",
    "                   for friend in user['friends']\n",
    "                   for foaf in friend['friends']\n",
    "                   if not_the_same(user, foaf) and not_friends(user, foaf))\n",
    "\n",
    "friends_of_friend_ids(users[3])"
   ]
  },
  {
   "cell_type": "code",
   "execution_count": null,
   "metadata": {},
   "outputs": [],
   "source": []
  }
 ],
 "metadata": {
  "kernelspec": {
   "display_name": "Python 3",
   "language": "python",
   "name": "python3"
  },
  "language_info": {
   "codemirror_mode": {
    "name": "ipython",
    "version": 3
   },
   "file_extension": ".py",
   "mimetype": "text/x-python",
   "name": "python",
   "nbconvert_exporter": "python",
   "pygments_lexer": "ipython3",
   "version": "3.7.3"
  }
 },
 "nbformat": 4,
 "nbformat_minor": 2
}
